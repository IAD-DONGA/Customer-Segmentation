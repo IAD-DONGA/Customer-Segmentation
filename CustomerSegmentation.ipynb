{
  "nbformat": 4,
  "nbformat_minor": 0,
  "metadata": {
    "colab": {
      "name": "CustomerSegmentation.ipynb",
      "provenance": [],
      "collapsed_sections": []
    },
    "kernelspec": {
      "name": "python3",
      "display_name": "Python 3"
    }
  },
  "cells": [
    {
      "cell_type": "code",
      "metadata": {
        "id": "dvkRkaVZz-uK",
        "colab_type": "code",
        "colab": {}
      },
      "source": [
        "# import libraries\n",
        "import pandas as pd\n",
        "%matplotlib inline\n",
        "import matplotlib.pyplot as plt\n",
        "import numpy as np\n",
        "import seaborn as sns\n",
        "from sklearn.cluster import KMeans"
      ],
      "execution_count": null,
      "outputs": []
    },
    {
      "cell_type": "markdown",
      "metadata": {
        "id": "vIVKtvpl1oMu",
        "colab_type": "text"
      },
      "source": [
        "## IMPORT DATASET"
      ]
    },
    {
      "cell_type": "code",
      "metadata": {
        "id": "HUKj3Z0A1-NR",
        "colab_type": "code",
        "colab": {
          "base_uri": "https://localhost:8080/",
          "height": 201
        },
        "outputId": "4e2ad398-ee00-40fc-c886-c8e6f42ae810"
      },
      "source": [
        "# To import our dataset we have to specify the file path( sample_data/Mall_Customers.csv, and \" Mall_customer.csv\" is the file that \n",
        "#contcontains our data) and  with the help of the pandas libraries we can read our dataset. \n",
        "df = pd.read_csv(\"sample_data/Mall_Customers.csv\")\n",
        "df.head(5)"
      ],
      "execution_count": null,
      "outputs": [
        {
          "output_type": "execute_result",
          "data": {
            "text/html": [
              "<div>\n",
              "<style scoped>\n",
              "    .dataframe tbody tr th:only-of-type {\n",
              "        vertical-align: middle;\n",
              "    }\n",
              "\n",
              "    .dataframe tbody tr th {\n",
              "        vertical-align: top;\n",
              "    }\n",
              "\n",
              "    .dataframe thead th {\n",
              "        text-align: right;\n",
              "    }\n",
              "</style>\n",
              "<table border=\"1\" class=\"dataframe\">\n",
              "  <thead>\n",
              "    <tr style=\"text-align: right;\">\n",
              "      <th></th>\n",
              "      <th>CustomerID</th>\n",
              "      <th>Gender</th>\n",
              "      <th>Age</th>\n",
              "      <th>Annual Income (k$)</th>\n",
              "      <th>Spending Score (1-100)</th>\n",
              "    </tr>\n",
              "  </thead>\n",
              "  <tbody>\n",
              "    <tr>\n",
              "      <th>0</th>\n",
              "      <td>1</td>\n",
              "      <td>Male</td>\n",
              "      <td>19</td>\n",
              "      <td>15</td>\n",
              "      <td>39</td>\n",
              "    </tr>\n",
              "    <tr>\n",
              "      <th>1</th>\n",
              "      <td>2</td>\n",
              "      <td>Male</td>\n",
              "      <td>21</td>\n",
              "      <td>15</td>\n",
              "      <td>81</td>\n",
              "    </tr>\n",
              "    <tr>\n",
              "      <th>2</th>\n",
              "      <td>3</td>\n",
              "      <td>Female</td>\n",
              "      <td>20</td>\n",
              "      <td>16</td>\n",
              "      <td>6</td>\n",
              "    </tr>\n",
              "    <tr>\n",
              "      <th>3</th>\n",
              "      <td>4</td>\n",
              "      <td>Female</td>\n",
              "      <td>23</td>\n",
              "      <td>16</td>\n",
              "      <td>77</td>\n",
              "    </tr>\n",
              "    <tr>\n",
              "      <th>4</th>\n",
              "      <td>5</td>\n",
              "      <td>Female</td>\n",
              "      <td>31</td>\n",
              "      <td>17</td>\n",
              "      <td>40</td>\n",
              "    </tr>\n",
              "  </tbody>\n",
              "</table>\n",
              "</div>"
            ],
            "text/plain": [
              "   CustomerID  Gender  Age  Annual Income (k$)  Spending Score (1-100)\n",
              "0           1    Male   19                  15                      39\n",
              "1           2    Male   21                  15                      81\n",
              "2           3  Female   20                  16                       6\n",
              "3           4  Female   23                  16                      77\n",
              "4           5  Female   31                  17                      40"
            ]
          },
          "metadata": {
            "tags": []
          },
          "execution_count": 7
        }
      ]
    },
    {
      "cell_type": "markdown",
      "metadata": {
        "id": "Oy3JWOKD2dC6",
        "colab_type": "text"
      },
      "source": [
        "### *DATA EXPLORATION*"
      ]
    },
    {
      "cell_type": "code",
      "metadata": {
        "id": "BdBIzFCD2jbs",
        "colab_type": "code",
        "colab": {
          "base_uri": "https://localhost:8080/",
          "height": 33
        },
        "outputId": "e89db36b-6674-4cb0-fbcd-3e322e1eb3b7"
      },
      "source": [
        "# Here we display the shape of the dataset\n",
        "# The dataset contains 200 lines and 5 columns \n",
        "df.shape"
      ],
      "execution_count": null,
      "outputs": [
        {
          "output_type": "execute_result",
          "data": {
            "text/plain": [
              "(200, 5)"
            ]
          },
          "metadata": {
            "tags": []
          },
          "execution_count": 8
        }
      ]
    },
    {
      "cell_type": "code",
      "metadata": {
        "id": "wyeH6agz3SsS",
        "colab_type": "code",
        "colab": {
          "base_uri": "https://localhost:8080/",
          "height": 117
        },
        "outputId": "dc84da25-5941-4b98-ded2-b78d9966d5bd"
      },
      "source": [
        "# We diplay the types of data that contains the dataset\n",
        "df.dtypes"
      ],
      "execution_count": null,
      "outputs": [
        {
          "output_type": "execute_result",
          "data": {
            "text/plain": [
              "CustomerID                 int64\n",
              "Gender                    object\n",
              "Age                        int64\n",
              "Annual Income (k$)         int64\n",
              "Spending Score (1-100)     int64\n",
              "dtype: object"
            ]
          },
          "metadata": {
            "tags": []
          },
          "execution_count": 9
        }
      ]
    },
    {
      "cell_type": "code",
      "metadata": {
        "id": "A9rZWoRz3bC1",
        "colab_type": "code",
        "colab": {
          "base_uri": "https://localhost:8080/",
          "height": 217
        },
        "outputId": "2c0e67bd-3b81-4a86-a58f-f4b06c3fcaca"
      },
      "source": [
        "# Information about the dataset\n",
        "df.info()"
      ],
      "execution_count": null,
      "outputs": [
        {
          "output_type": "stream",
          "text": [
            "<class 'pandas.core.frame.DataFrame'>\n",
            "RangeIndex: 200 entries, 0 to 199\n",
            "Data columns (total 5 columns):\n",
            " #   Column                  Non-Null Count  Dtype \n",
            "---  ------                  --------------  ----- \n",
            " 0   CustomerID              200 non-null    int64 \n",
            " 1   Gender                  200 non-null    object\n",
            " 2   Age                     200 non-null    int64 \n",
            " 3   Annual Income (k$)      200 non-null    int64 \n",
            " 4   Spending Score (1-100)  200 non-null    int64 \n",
            "dtypes: int64(4), object(1)\n",
            "memory usage: 7.9+ KB\n"
          ],
          "name": "stdout"
        }
      ]
    },
    {
      "cell_type": "code",
      "metadata": {
        "id": "_2O8ygkp3be0",
        "colab_type": "code",
        "colab": {
          "base_uri": "https://localhost:8080/",
          "height": 117
        },
        "outputId": "cb3a3fb5-a51b-47ad-aa47-84aedf5ed790"
      },
      "source": [
        "# verify missing values(the is no missing value as we can see that we have value 0 in each column)\n",
        "df.isnull().sum()"
      ],
      "execution_count": null,
      "outputs": [
        {
          "output_type": "execute_result",
          "data": {
            "text/plain": [
              "CustomerID                0\n",
              "Gender                    0\n",
              "Age                       0\n",
              "Annual Income (k$)        0\n",
              "Spending Score (1-100)    0\n",
              "dtype: int64"
            ]
          },
          "metadata": {
            "tags": []
          },
          "execution_count": 11
        }
      ]
    },
    {
      "cell_type": "code",
      "metadata": {
        "id": "iQkLfzQB3bTt",
        "colab_type": "code",
        "colab": {
          "base_uri": "https://localhost:8080/",
          "height": 292
        },
        "outputId": "77b49266-7b23-449b-ce16-837cabd35381"
      },
      "source": [
        "# Display the mean, min, max, count and percentiles of our data using pandas with method .describe()\n",
        "df.describe()"
      ],
      "execution_count": null,
      "outputs": [
        {
          "output_type": "execute_result",
          "data": {
            "text/html": [
              "<div>\n",
              "<style scoped>\n",
              "    .dataframe tbody tr th:only-of-type {\n",
              "        vertical-align: middle;\n",
              "    }\n",
              "\n",
              "    .dataframe tbody tr th {\n",
              "        vertical-align: top;\n",
              "    }\n",
              "\n",
              "    .dataframe thead th {\n",
              "        text-align: right;\n",
              "    }\n",
              "</style>\n",
              "<table border=\"1\" class=\"dataframe\">\n",
              "  <thead>\n",
              "    <tr style=\"text-align: right;\">\n",
              "      <th></th>\n",
              "      <th>CustomerID</th>\n",
              "      <th>Age</th>\n",
              "      <th>Annual Income (k$)</th>\n",
              "      <th>Spending Score (1-100)</th>\n",
              "    </tr>\n",
              "  </thead>\n",
              "  <tbody>\n",
              "    <tr>\n",
              "      <th>count</th>\n",
              "      <td>200.000000</td>\n",
              "      <td>200.000000</td>\n",
              "      <td>200.000000</td>\n",
              "      <td>200.000000</td>\n",
              "    </tr>\n",
              "    <tr>\n",
              "      <th>mean</th>\n",
              "      <td>100.500000</td>\n",
              "      <td>38.850000</td>\n",
              "      <td>60.560000</td>\n",
              "      <td>50.200000</td>\n",
              "    </tr>\n",
              "    <tr>\n",
              "      <th>std</th>\n",
              "      <td>57.879185</td>\n",
              "      <td>13.969007</td>\n",
              "      <td>26.264721</td>\n",
              "      <td>25.823522</td>\n",
              "    </tr>\n",
              "    <tr>\n",
              "      <th>min</th>\n",
              "      <td>1.000000</td>\n",
              "      <td>18.000000</td>\n",
              "      <td>15.000000</td>\n",
              "      <td>1.000000</td>\n",
              "    </tr>\n",
              "    <tr>\n",
              "      <th>25%</th>\n",
              "      <td>50.750000</td>\n",
              "      <td>28.750000</td>\n",
              "      <td>41.500000</td>\n",
              "      <td>34.750000</td>\n",
              "    </tr>\n",
              "    <tr>\n",
              "      <th>50%</th>\n",
              "      <td>100.500000</td>\n",
              "      <td>36.000000</td>\n",
              "      <td>61.500000</td>\n",
              "      <td>50.000000</td>\n",
              "    </tr>\n",
              "    <tr>\n",
              "      <th>75%</th>\n",
              "      <td>150.250000</td>\n",
              "      <td>49.000000</td>\n",
              "      <td>78.000000</td>\n",
              "      <td>73.000000</td>\n",
              "    </tr>\n",
              "    <tr>\n",
              "      <th>max</th>\n",
              "      <td>200.000000</td>\n",
              "      <td>70.000000</td>\n",
              "      <td>137.000000</td>\n",
              "      <td>99.000000</td>\n",
              "    </tr>\n",
              "  </tbody>\n",
              "</table>\n",
              "</div>"
            ],
            "text/plain": [
              "       CustomerID         Age  Annual Income (k$)  Spending Score (1-100)\n",
              "count  200.000000  200.000000          200.000000              200.000000\n",
              "mean   100.500000   38.850000           60.560000               50.200000\n",
              "std     57.879185   13.969007           26.264721               25.823522\n",
              "min      1.000000   18.000000           15.000000                1.000000\n",
              "25%     50.750000   28.750000           41.500000               34.750000\n",
              "50%    100.500000   36.000000           61.500000               50.000000\n",
              "75%    150.250000   49.000000           78.000000               73.000000\n",
              "max    200.000000   70.000000          137.000000               99.000000"
            ]
          },
          "metadata": {
            "tags": []
          },
          "execution_count": 12
        }
      ]
    },
    {
      "cell_type": "code",
      "metadata": {
        "id": "gp677j9z3aps",
        "colab_type": "code",
        "colab": {
          "base_uri": "https://localhost:8080/",
          "height": 524
        },
        "outputId": "d8e88448-726d-4410-cb7a-93ad93d947ff"
      },
      "source": [
        "# create a barplot and a piechart to show the gender distribution across our dataset.\n",
        "\n",
        "# barplot (figure 1)\n",
        "sns.countplot(df['Gender'] , label ='Count')\n",
        "plt.show()\n",
        "\n",
        "#  piechart ( figure 2 )\n",
        "labels = ['Female', 'Male']\n",
        "size = df['Gender'].value_counts()\n",
        "colors = ['yellow', 'red']\n",
        "explode = [0, 0.1]\n",
        "plt.pie(size, colors = colors, explode = explode, labels = labels, shadow = True, autopct = '%.2f%%')\n",
        "plt.title('Gender', fontsize = 10)\n",
        "plt.axis('off')\n",
        "plt.legend()\n",
        "plt.show()"
      ],
      "execution_count": null,
      "outputs": [
        {
          "output_type": "display_data",
          "data": {
            "image/png": "[encoded data removed]",
            "text/plain": [
              "<Figure size 432x288 with 1 Axes>"
            ]
          },
          "metadata": {
            "tags": [],
            "needs_background": "light"
          }
        },
        {
          "output_type": "display_data",
          "data": {
            "image/png": "[encoded data removed]",
            "text/plain": [
              "<Figure size 432x288 with 1 Axes>"
            ]
          },
          "metadata": {
            "tags": []
          }
        }
      ]
    },
    {
      "cell_type": "code",
      "metadata": {
        "id": "JpPUxNEa37Sh",
        "colab_type": "code",
        "colab": {}
      },
      "source": [
        "# # From the above barplot and pie chart, we observe that the number of females (56%) is higher than the males (44%)"
      ],
      "execution_count": null,
      "outputs": []
    },
    {
      "cell_type": "code",
      "metadata": {
        "id": "V6LbjQ0e37WC",
        "colab_type": "code",
        "colab": {
          "base_uri": "https://localhost:8080/",
          "height": 299
        },
        "outputId": "120e18ee-cf65-48a6-95c5-69fedf60d970"
      },
      "source": [
        "#Let us plot a histogram to view the distribution of customer ages\n",
        " Age distribution\n",
        "plt.subplot(1, 1, 1)\n",
        "sns.set(style = 'whitegrid')\n",
        "sns.distplot(df['Age'], color = 'green')\n",
        "plt.title('Distribution of Age', fontsize = 10)\n",
        "plt.xlabel('Range of Age')\n",
        "plt.ylabel('Count')\n",
        "plt.show()"
      ],
      "execution_count": null,
      "outputs": [
        {
          "output_type": "display_data",
          "data": {
            "image/png": "[encoded data removed]",
            "text/plain": [
              "<Figure size 432x288 with 1 Axes>"
            ]
          },
          "metadata": {
            "tags": []
          }
        }
      ]
    },
    {
      "cell_type": "code",
      "metadata": {
        "id": "V6fwkxoY4TLc",
        "colab_type": "code",
        "colab": {
          "base_uri": "https://localhost:8080/",
          "height": 401
        },
        "outputId": "e9fab9ca-7b94-478d-a1a9-e6a4d3235c44"
      },
      "source": [
        "plt.boxplot(df[\"Age\"])"
      ],
      "execution_count": null,
      "outputs": [
        {
          "output_type": "execute_result",
          "data": {
            "text/plain": [
              "{'boxes': [<matplotlib.lines.Line2D at 0x7f654db641d0>],\n",
              " 'caps': [<matplotlib.lines.Line2D at 0x7f654db64c88>,\n",
              "  <matplotlib.lines.Line2D at 0x7f654db73080>],\n",
              " 'fliers': [<matplotlib.lines.Line2D at 0x7f654db737f0>],\n",
              " 'means': [],\n",
              " 'medians': [<matplotlib.lines.Line2D at 0x7f654db73438>],\n",
              " 'whiskers': [<matplotlib.lines.Line2D at 0x7f654db64518>,\n",
              "  <matplotlib.lines.Line2D at 0x7f654db648d0>]}"
            ]
          },
          "metadata": {
            "tags": []
          },
          "execution_count": 15
        },
        {
          "output_type": "display_data",
          "data": {
            "image/png": "[encoded data removed]",
            "text/plain": [
              "<Figure size 432x288 with 1 Axes>"
            ]
          },
          "metadata": {
            "tags": []
          }
        }
      ]
    },
    {
      "cell_type": "code",
      "metadata": {
        "id": "Ny_FhOes376V",
        "colab_type": "code",
        "colab": {}
      },
      "source": [
        "# # In the above histogram we can analyse that the most of the customers has age around 30-50 years old and\n",
        "# most regular costomer has age around 30-35, this can be notice in the boxplot (figure 2 above)"
      ],
      "execution_count": null,
      "outputs": []
    },
    {
      "cell_type": "code",
      "metadata": {
        "id": "kLsoho9H37FI",
        "colab_type": "code",
        "colab": {
          "base_uri": "https://localhost:8080/",
          "height": 299
        },
        "outputId": "fcba2eac-3a02-4868-c615-aa2c7207d26e"
      },
      "source": [
        "# Distribution of income\n",
        "plt.subplot(1, 1, 1)\n",
        "sns.set(style = 'whitegrid')\n",
        "sns.distplot(df['Annual Income (k$)'], color = 'blue')\n",
        "plt.title('Distribution of Annual Income', fontsize = 10)\n",
        "plt.xlabel('Range of Annual Income')\n",
        "plt.ylabel('Count')\n",
        "plt.show()"
      ],
      "execution_count": null,
      "outputs": [
        {
          "output_type": "display_data",
          "data": {
            "image/png": "[encoded data removed]",
            "text/plain": [
              "<Figure size 432x288 with 1 Axes>"
            ]
          },
          "metadata": {
            "tags": []
          }
        }
      ]
    },
    {
      "cell_type": "code",
      "metadata": {
        "id": "pQJj7-RP4Mu-",
        "colab_type": "code",
        "colab": {
          "base_uri": "https://localhost:8080/",
          "height": 401
        },
        "outputId": "d8302080-f2d2-4250-adf8-2ffa674f317c"
      },
      "source": [
        "plt.boxplot(df['Annual Income (k$)'])"
      ],
      "execution_count": null,
      "outputs": [
        {
          "output_type": "execute_result",
          "data": {
            "text/plain": [
              "{'boxes': [<matplotlib.lines.Line2D at 0x7f654dad3400>],\n",
              " 'caps': [<matplotlib.lines.Line2D at 0x7f654dad3eb8>,\n",
              "  <matplotlib.lines.Line2D at 0x7f654da5e2b0>],\n",
              " 'fliers': [<matplotlib.lines.Line2D at 0x7f654da5ea20>],\n",
              " 'means': [],\n",
              " 'medians': [<matplotlib.lines.Line2D at 0x7f654da5e668>],\n",
              " 'whiskers': [<matplotlib.lines.Line2D at 0x7f654dad3748>,\n",
              "  <matplotlib.lines.Line2D at 0x7f654dad3b00>]}"
            ]
          },
          "metadata": {
            "tags": []
          },
          "execution_count": 19
        },
        {
          "output_type": "display_data",
          "data": {
            "image/png": "[encoded data removed]",
            "text/plain": [
              "<Figure size 432x288 with 1 Axes>"
            ]
          },
          "metadata": {
            "tags": []
          }
        }
      ]
    },
    {
      "cell_type": "code",
      "metadata": {
        "id": "piGGhoFR4NYk",
        "colab_type": "code",
        "colab": {}
      },
      "source": [
        "#  In the above plot of age distribution we can can infer that there are few people who earn more than 100kUS Dollars.\n",
        "#  Most of the people have an earning of around 40k-60k US Dollars and the least Income is around 20k US Dollars"
      ],
      "execution_count": null,
      "outputs": []
    },
    {
      "cell_type": "markdown",
      "metadata": {
        "id": "lDP9FqwJ5GIG",
        "colab_type": "text"
      },
      "source": [
        "### *CLUSTERING K-MEAN*"
      ]
    },
    {
      "cell_type": "code",
      "metadata": {
        "id": "BDq7XTmF7GxI",
        "colab_type": "code",
        "colab": {}
      },
      "source": [
        "# we want to cluster the customers, and for this we'll firstly choose to keep a database that has only the variables \n",
        "# that are the most important for clustering at the moment: income and spendings."
      ],
      "execution_count": null,
      "outputs": []
    },
    {
      "cell_type": "markdown",
      "metadata": {
        "id": "FD1HEIS27VxH",
        "colab_type": "text"
      },
      "source": [
        "### *Annual Income and Spending score*"
      ]
    },
    {
      "cell_type": "code",
      "metadata": {
        "id": "WnOKE6zp4NKK",
        "colab_type": "code",
        "colab": {
          "base_uri": "https://localhost:8080/",
          "height": 201
        },
        "outputId": "d968cd85-5d6b-4f34-94ca-5f61390312a3"
      },
      "source": [
        "df1 = df.iloc[:,[3,4]]\n",
        "df1.head()"
      ],
      "execution_count": null,
      "outputs": [
        {
          "output_type": "execute_result",
          "data": {
            "text/html": [
              "<div>\n",
              "<style scoped>\n",
              "    .dataframe tbody tr th:only-of-type {\n",
              "        vertical-align: middle;\n",
              "    }\n",
              "\n",
              "    .dataframe tbody tr th {\n",
              "        vertical-align: top;\n",
              "    }\n",
              "\n",
              "    .dataframe thead th {\n",
              "        text-align: right;\n",
              "    }\n",
              "</style>\n",
              "<table border=\"1\" class=\"dataframe\">\n",
              "  <thead>\n",
              "    <tr style=\"text-align: right;\">\n",
              "      <th></th>\n",
              "      <th>Annual Income (k$)</th>\n",
              "      <th>Spending Score (1-100)</th>\n",
              "    </tr>\n",
              "  </thead>\n",
              "  <tbody>\n",
              "    <tr>\n",
              "      <th>0</th>\n",
              "      <td>15</td>\n",
              "      <td>39</td>\n",
              "    </tr>\n",
              "    <tr>\n",
              "      <th>1</th>\n",
              "      <td>15</td>\n",
              "      <td>81</td>\n",
              "    </tr>\n",
              "    <tr>\n",
              "      <th>2</th>\n",
              "      <td>16</td>\n",
              "      <td>6</td>\n",
              "    </tr>\n",
              "    <tr>\n",
              "      <th>3</th>\n",
              "      <td>16</td>\n",
              "      <td>77</td>\n",
              "    </tr>\n",
              "    <tr>\n",
              "      <th>4</th>\n",
              "      <td>17</td>\n",
              "      <td>40</td>\n",
              "    </tr>\n",
              "  </tbody>\n",
              "</table>\n",
              "</div>"
            ],
            "text/plain": [
              "   Annual Income (k$)  Spending Score (1-100)\n",
              "0                  15                      39\n",
              "1                  15                      81\n",
              "2                  16                       6\n",
              "3                  16                      77\n",
              "4                  17                      40"
            ]
          },
          "metadata": {
            "tags": []
          },
          "execution_count": 21
        }
      ]
    },
    {
      "cell_type": "code",
      "metadata": {
        "id": "nD8VdQXn4MTj",
        "colab_type": "code",
        "colab": {}
      },
      "source": [
        "# # The next step is to determine how many clusters are optimal; \n",
        "# for this we'll be using the Elbow method, testing number of clusters between 1 and 10"
      ],
      "execution_count": null,
      "outputs": []
    },
    {
      "cell_type": "code",
      "metadata": {
        "id": "Ky-AdERO7qiJ",
        "colab_type": "code",
        "colab": {}
      },
      "source": [
        "# Import kmean"
      ],
      "execution_count": null,
      "outputs": []
    },
    {
      "cell_type": "code",
      "metadata": {
        "id": "aO7xLfYd7rS2",
        "colab_type": "code",
        "colab": {
          "base_uri": "https://localhost:8080/",
          "height": 301
        },
        "outputId": "202e16f9-ee72-4c5c-8891-daddf64ea5f9"
      },
      "source": [
        "cluster =[]\n",
        "for i in range(1, 10):\n",
        "    Kmeans = KMeans(n_clusters = i, init = 'k-means++', max_iter = 300, \n",
        "                    n_init = 10, random_state = 0)\n",
        "    Kmeans.fit(df1)\n",
        "    cluster.append(Kmeans.inertia_)\n",
        "\n",
        "#Visualisation\n",
        "plt.plot(range(1, 10), cluster)\n",
        "plt.plot(np.arange(1 , 10) , cluster , 'o')\n",
        "plt.plot(np.arange(1 , 10) , cluster , '-' , alpha = 0.5)\n",
        "plt.xlabel('number of cluster')\n",
        "plt.ylabel('cluster')\n",
        "plt.plot()"
      ],
      "execution_count": null,
      "outputs": [
        {
          "output_type": "execute_result",
          "data": {
            "text/plain": [
              "[]"
            ]
          },
          "metadata": {
            "tags": []
          },
          "execution_count": 24
        },
        {
          "output_type": "display_data",
          "data": {
            "image/png": "[encoded data removed]",
            "text/plain": [
              "<Figure size 432x288 with 1 Axes>"
            ]
          },
          "metadata": {
            "tags": []
          }
        }
      ]
    },
    {
      "cell_type": "code",
      "metadata": {
        "id": "BJ1bwVMX7rEe",
        "colab_type": "code",
        "colab": {
          "base_uri": "https://localhost:8080/",
          "height": 299
        },
        "outputId": "ad608919-92ee-4620-f9d4-f2bc24c1fbf2"
      },
      "source": [
        "# The elbow  curve above seems to be at 5 so we 'll choose 5 as number  of clusters.\n",
        "\n",
        "kmeans = KMeans(n_clusters=5)\n",
        "kmeans.fit(df1)\n",
        "y_mean = kmeans.fit_predict(df1)\n",
        "\n",
        "df1 = np.array(df1)\n",
        "\n",
        "plt.scatter(df1[y_mean ==0,0], df1[y_mean == 0,1], c='red')\n",
        "plt.scatter(df1[y_mean ==1,0], df1[y_mean == 1,1], c='black')\n",
        "plt.scatter(df1[y_mean ==2,0], df1[y_mean == 2,1], s=100, c='blue')\n",
        "plt.scatter(df1[y_mean ==3,0], df1[y_mean == 3,1], s=100, c='orange')\n",
        "plt.scatter(df1[y_mean ==4,0], df1[y_mean == 4,1], s=100, c='yellow')\n",
        "\n",
        "plt.title(\"Clusters Kmean\", fontsize=10)\n",
        "plt.xlabel(\"Annual income\")\n",
        "plt.ylabel(\"Spending Score\")\n",
        "plt.show()"
      ],
      "execution_count": null,
      "outputs": [
        {
          "output_type": "display_data",
          "data": {
            "image/png": "[encoded data removed]",
            "text/plain": [
              "<Figure size 432x288 with 1 Axes>"
            ]
          },
          "metadata": {
            "tags": []
          }
        }
      ]
    },
    {
      "cell_type": "code",
      "metadata": {
        "id": "tkXTsSOt7qKT",
        "colab_type": "code",
        "colab": {}
      },
      "source": [
        "# So we can clearly identify our 5 clusters; according to them, we can say that the clients \n",
        "# can be classified as follows: people that don't earn too much are two types: some that keep \n",
        "# their spendings low (orange) and those that spend a lot(red). The ones with high incomes can \n",
        "# be split in a similar way: the yellow cluster are the people that keep their spendings at lower levels, \n",
        "# while the blue ones spend a lot. There is also a medium cateogory: people that have medium level \n",
        "# incomes and keep their spendings at medium levels( black cluster)"
      ],
      "execution_count": null,
      "outputs": []
    },
    {
      "cell_type": "markdown",
      "metadata": {
        "id": "M5QDk56u8W6n",
        "colab_type": "text"
      },
      "source": [
        "### *Age and Spending score*"
      ]
    },
    {
      "cell_type": "code",
      "metadata": {
        "id": "DWFh608F8S3d",
        "colab_type": "code",
        "colab": {
          "base_uri": "https://localhost:8080/",
          "height": 201
        },
        "outputId": "f46bb022-ee0f-4d03-f7cb-5841bb2ea64f"
      },
      "source": [
        "# Select the two columns and make a new dataframe\n",
        "df2 = df.iloc[:,[2,4]]\n",
        "df2.head()"
      ],
      "execution_count": null,
      "outputs": [
        {
          "output_type": "execute_result",
          "data": {
            "text/html": [
              "<div>\n",
              "<style scoped>\n",
              "    .dataframe tbody tr th:only-of-type {\n",
              "        vertical-align: middle;\n",
              "    }\n",
              "\n",
              "    .dataframe tbody tr th {\n",
              "        vertical-align: top;\n",
              "    }\n",
              "\n",
              "    .dataframe thead th {\n",
              "        text-align: right;\n",
              "    }\n",
              "</style>\n",
              "<table border=\"1\" class=\"dataframe\">\n",
              "  <thead>\n",
              "    <tr style=\"text-align: right;\">\n",
              "      <th></th>\n",
              "      <th>Age</th>\n",
              "      <th>Spending Score (1-100)</th>\n",
              "    </tr>\n",
              "  </thead>\n",
              "  <tbody>\n",
              "    <tr>\n",
              "      <th>0</th>\n",
              "      <td>19</td>\n",
              "      <td>39</td>\n",
              "    </tr>\n",
              "    <tr>\n",
              "      <th>1</th>\n",
              "      <td>21</td>\n",
              "      <td>81</td>\n",
              "    </tr>\n",
              "    <tr>\n",
              "      <th>2</th>\n",
              "      <td>20</td>\n",
              "      <td>6</td>\n",
              "    </tr>\n",
              "    <tr>\n",
              "      <th>3</th>\n",
              "      <td>23</td>\n",
              "      <td>77</td>\n",
              "    </tr>\n",
              "    <tr>\n",
              "      <th>4</th>\n",
              "      <td>31</td>\n",
              "      <td>40</td>\n",
              "    </tr>\n",
              "  </tbody>\n",
              "</table>\n",
              "</div>"
            ],
            "text/plain": [
              "   Age  Spending Score (1-100)\n",
              "0   19                      39\n",
              "1   21                      81\n",
              "2   20                       6\n",
              "3   23                      77\n",
              "4   31                      40"
            ]
          },
          "metadata": {
            "tags": []
          },
          "execution_count": 26
        }
      ]
    },
    {
      "cell_type": "code",
      "metadata": {
        "id": "o6MJkjkg8TCH",
        "colab_type": "code",
        "colab": {
          "base_uri": "https://localhost:8080/",
          "height": 301
        },
        "outputId": "8ccb5ece-1e48-48c3-ae29-b55d0fa29708"
      },
      "source": [
        "cluster =[]\n",
        "for i in range(1, 10):\n",
        "    Kmeans = KMeans(n_clusters = i, init = 'k-means++', max_iter = 300, \n",
        "                    n_init = 10, random_state = 0)\n",
        "    Kmeans.fit(df2)\n",
        "    cluster.append(Kmeans.inertia_)\n",
        "\n",
        "#Visualisation\n",
        "plt.plot(range(1, 10), cluster)\n",
        "plt.plot(np.arange(1 , 10) , cluster , 'o')\n",
        "plt.plot(np.arange(1 , 10) , cluster , '-' , alpha = 0.5)\n",
        "plt.xlabel('number of cluster')\n",
        "plt.ylabel('Count')\n",
        "plt.plot()"
      ],
      "execution_count": null,
      "outputs": [
        {
          "output_type": "execute_result",
          "data": {
            "text/plain": [
              "[]"
            ]
          },
          "metadata": {
            "tags": []
          },
          "execution_count": 27
        },
        {
          "output_type": "display_data",
          "data": {
            "image/png": "[encoded data removed]",
            "text/plain": [
              "<Figure size 432x288 with 1 Axes>"
            ]
          },
          "metadata": {
            "tags": []
          }
        }
      ]
    },
    {
      "cell_type": "code",
      "metadata": {
        "id": "lPetJK2N8S_u",
        "colab_type": "code",
        "colab": {
          "base_uri": "https://localhost:8080/",
          "height": 316
        },
        "outputId": "fab368cb-493f-4c5c-ee4e-ca220154c541"
      },
      "source": [
        "# The elbow curve above seems to be at 4 so we'll choose 4 as number of clusters.\n",
        "kmeans = KMeans(n_clusters=4) \n",
        "kmeans.fit(df2)\n",
        "\n",
        "y_km = kmeans.fit_predict(df2)\n",
        "\n",
        "df2 = np.array(df2)\n",
        "\n",
        "plt.title(\"Clusters\", fontsize=10)\n",
        "plt.xlabel(\"Age\")\n",
        "plt.ylabel(\"Spending Score\")\n",
        "\n",
        "plt.scatter(df2[y_km ==0,0], df2[y_km == 0,1], c='red')\n",
        "plt.scatter(df2[y_km ==1,0], df2[y_km == 1,1], c='black')\n",
        "plt.scatter(df2[y_km ==2,0], df2[y_km == 2,1], s=100, c='blue')\n",
        "plt.scatter(df2[y_km ==3,0], df2[y_km == 3,1], s=100, c='orange')"
      ],
      "execution_count": null,
      "outputs": [
        {
          "output_type": "execute_result",
          "data": {
            "text/plain": [
              "<matplotlib.collections.PathCollection at 0x7f6547b4f828>"
            ]
          },
          "metadata": {
            "tags": []
          },
          "execution_count": 28
        },
        {
          "output_type": "display_data",
          "data": {
            "image/png": "[encoded data removed]",
            "text/plain": [
              "<Figure size 432x288 with 1 Axes>"
            ]
          },
          "metadata": {
            "tags": []
          }
        }
      ]
    },
    {
      "cell_type": "code",
      "metadata": {
        "id": "7WtDtZhw8Spn",
        "colab_type": "code",
        "colab": {}
      },
      "source": [
        "# Here we can clearly identify a group of people (red clusters) that keep their spendings \n",
        "# at a low level, most of them seem to be above 30 years old; the ones below 30 years \n",
        "# old are two types: people that keep their spending at a medium level( blue and orange clusters) \n",
        "# and people that spend a lot(black clusters). \n",
        "# As seen previously, this last group is made of people of opposite level of income, low and high. \n",
        "# The ones that spend at a medium level, in blue and orange, are the the group we've seen above in the \n",
        "# black cluster, people that also have medium incomes"
      ],
      "execution_count": null,
      "outputs": []
    },
    {
      "cell_type": "markdown",
      "metadata": {
        "id": "8QRulsU9_HTR",
        "colab_type": "text"
      },
      "source": [
        "### *We can start taking actions with this segmentation. The main strategies are :*\n",
        "### *High* Value: Improve Retention\n",
        "### *Mid* Value: Improve Retention + Increase Frequency\n",
        "### *Low* Value: Increase Frequency"
      ]
    }
  ]
}